{
 "cells": [
  {
   "cell_type": "code",
   "execution_count": null,
   "metadata": {},
   "outputs": [],
   "source": [
    "import model\n",
    "import data\n",
    "import util\n",
    "\n",
    "from pathlib import Path\n",
    "import csv\n",
    "import pandas as pd\n",
    "import numpy as np\n",
    "import scipy\n",
    "import scipy.stats\n",
    "from scipy.linalg import svd\n",
    "\n",
    "import torch\n",
    "import numpy as np\n",
    "\n",
    "import plotly.express as px\n",
    "import plotly.graph_objects as go\n",
    "\n",
    "pd.options.display.float_format = '{:,.3f}'.format\n",
    "\n",
    "\n",
    "model_family_dir = Path('model/reddit')\n",
    "fields = data.load_fields(model_family_dir)\n",
    "comms = fields['community'].vocab.itos\n",
    "comms = [comm for comm in comms]"
   ]
  },
  {
   "cell_type": "markdown",
   "metadata": {},
   "source": [
    "# CCLM perplexity and information gain (§2)"
   ]
  },
  {
   "cell_type": "markdown",
   "metadata": {},
   "source": [
    "## PPL/IG over all examples\n",
    "\n",
    "LSTMs perform better over all. Not very much difference in where the community layer falls.\n",
    "\n",
    "The middle-layer transformers are worse. Maybe the transformer architecture does'nt like to have intermediate layers for some reason.\n"
   ]
  },
  {
   "cell_type": "code",
   "execution_count": null,
   "metadata": {},
   "outputs": [],
   "source": [
    "# Load the results created by `eval_lm test_perplexity`\n",
    "df = pd.read_csv(model_family_dir/'ppl_aggregate.csv').set_index('model')\n",
    "best_lstm, best_transformer = 'lstm-3-1', 'transformer-3-0'\n",
    "df"
   ]
  },
  {
   "cell_type": "markdown",
   "metadata": {},
   "source": [
    "### PPL/IG  by community\n",
    "\n",
    "Somewhat bigger community spread in transformer performance. All models are skewed left (long tail of low perplexity subreddits).\n",
    "\n",
    "The best LSTM model has more communities with negative information gain on average than the best Transformer (although the mean information gain is lower)."
   ]
  },
  {
   "cell_type": "code",
   "execution_count": null,
   "metadata": {},
   "outputs": [],
   "source": [
    "df = pd.read_csv(model_family_dir/'ppl_by_comm.csv').set_index('community')\n",
    "\n",
    "cclms = [f'{arch}-3-{lc}' for arch in ('lstm', 'transformer') for lc in range(4)]\n",
    "uncond = lambda x: x[:-2]\n",
    "\n",
    "for model in cclms:\n",
    "    df[f'{model}_ig'] = df[uncond(model)] / df[model] "
   ]
  },
  {
   "cell_type": "markdown",
   "metadata": {},
   "source": [
    "#### Perplexity"
   ]
  },
  {
   "cell_type": "code",
   "execution_count": null,
   "metadata": {},
   "outputs": [],
   "source": [
    "px.box(df[cclms].melt(var_name='model'), x='model', y='value')"
   ]
  },
  {
   "cell_type": "markdown",
   "metadata": {},
   "source": [
    "#### Information gain"
   ]
  },
  {
   "cell_type": "code",
   "execution_count": null,
   "metadata": {
    "scrolled": true
   },
   "outputs": [],
   "source": [
    "px.box(df[[f'{model}_ig' for model in cclms]].melt(var_name='model'), x='model', y='value')"
   ]
  },
  {
   "cell_type": "markdown",
   "metadata": {},
   "source": [
    "# LMCC indiscernability & confusion matrix (§3)"
   ]
  },
  {
   "cell_type": "code",
   "execution_count": null,
   "metadata": {},
   "outputs": [],
   "source": [
    "confusion = {model: pd.read_csv(model_family_dir/model/'confusion.csv').set_index('community') for model in cclms}\n",
    "\n",
    "def entropy(P, axis=0):\n",
    "    return (-P * np.log(P)).sum(axis=axis)\n",
    "\n",
    "for model in cclms:\n",
    "    indisc = np.exp(entropy(confusion[model], axis=1)) / len(comms)\n",
    "    df[f\"{model}_indisc\"] = pd.Series(indisc, index=comms)"
   ]
  },
  {
   "cell_type": "markdown",
   "metadata": {},
   "source": [
    "### Correlation with PPL"
   ]
  },
  {
   "cell_type": "code",
   "execution_count": null,
   "metadata": {},
   "outputs": [],
   "source": [
    "pd.DataFrame([scipy.stats.pearsonr(df[f\"{model}\"], df[f\"{model}_indisc\"]) for model in cclms], \n",
    "             index=cclms, columns=('r','p'))"
   ]
  },
  {
   "cell_type": "markdown",
   "metadata": {},
   "source": [
    "### Correlation with IG"
   ]
  },
  {
   "cell_type": "code",
   "execution_count": null,
   "metadata": {},
   "outputs": [],
   "source": [
    "pd.DataFrame([scipy.stats.pearsonr(df[f\"{model}_ig\"], df[f\"{model}_indisc\"]) for model in cclms], \n",
    "             index=cclms, columns=('r','p'))"
   ]
  },
  {
   "cell_type": "code",
   "execution_count": null,
   "metadata": {},
   "outputs": [],
   "source": [
    "def apply_permutation(permutation, matrix):\n",
    "    result = np.empty_like(matrix)\n",
    "    for i in range(matrix.shape[0]):\n",
    "        for j in range(matrix.shape[1]):\n",
    "            result[i][j] = matrix[permutation[i]][permutation[j]]\n",
    "    return result\n",
    "\n",
    "def sort_confusion_by_values(confusion, sort_key):\n",
    "    assert(all(confusion.index == sort_key.index))\n",
    "    comm_order = np.array(list(zip(*sorted(list(zip(sort_key,range(len(sort_key)))))))[1])\n",
    "    labels_sorted = [comms[i] for i in comm_order]\n",
    "    confusion_sorted = apply_permutation(comm_order, confusion.values)\n",
    "    return labels_sorted, confusion_sorted\n",
    "\n",
    "def plot_confusion(C, labels):\n",
    "    fig = go.Figure(data=go.Heatmap(z=C, x=labels, y=labels))\n",
    "    fig.update_layout(height=2*510, width=2*510, font=dict(size=8), title='')\n",
    "    return fig.show()"
   ]
  },
  {
   "cell_type": "code",
   "execution_count": null,
   "metadata": {},
   "outputs": [],
   "source": [
    "labels_sorted, confusion_sorted  = sort_confusion_by_values(\n",
    "        confusion[best_lstm], df[f\"{best_lstm}_indisc\"])\n",
    "plot_confusion(np.log(confusion_sorted), labels_sorted)"
   ]
  },
  {
   "cell_type": "markdown",
   "metadata": {},
   "source": [
    "# Community embeddings"
   ]
  },
  {
   "cell_type": "code",
   "execution_count": null,
   "metadata": {},
   "outputs": [],
   "source": [
    "def normalize(w):\n",
    "    return w/np.sqrt( (w**2).sum(axis=1) )[:,None] \n",
    "\n",
    "# load the social network-based embedding\n",
    "with open('embedding/web-redditEmbeddings-subreddits.csv', 'r') as f:\n",
    "    web_vecs = {}\n",
    "    reader = csv.reader(f) \n",
    "    for row in reader:\n",
    "        web_vecs[row[0]] = [float(a) for a in row[1:]]\n",
    "web_embed = np.array([web_vecs[comm.lower()] for comm in comms]) # order the rows correctly\n",
    "web_embed = normalize(web_embed)\n",
    "\n",
    "# load the CCLM embeddings\n",
    "model_dir = model_family_dir\n",
    "model_names = [f\"{arch}-3-{i}\" for arch in ('lstm', 'transformer') for i in range(4)]\n",
    "cclm_embed = {m: normalize(util.extract_comm_embedding(model_dir/m)) for m in model_names}\n",
    "\n",
    "# load the random \"embeddings\" w/ same shape as the CCLM embeddings\n",
    "# wget https://www.random.org/integers/?num=8160&min=-100&max=100&col=16&base=10&format=plain&rnd=new\n",
    "random_embed = {}\n",
    "for i in range(10):\n",
    "    numbers = []\n",
    "    for line in open(f\"embedding/random/{i+1}.txt\").readlines():\n",
    "        if line:\n",
    "            numbers.append(list(map(lambda x: int(x)/100, line.split('\\t'))))\n",
    "    random_embed[i] = normalize(np.array(numbers))"
   ]
  },
  {
   "cell_type": "markdown",
   "metadata": {},
   "source": [
    "## Alignment values"
   ]
  },
  {
   "cell_type": "code",
   "execution_count": null,
   "metadata": {},
   "outputs": [],
   "source": [
    "def embedding_alignment(e1, e2):\n",
    "    prod = np.matmul(e1.T, e2)\n",
    "    u, s, vh = svd(prod)\n",
    "    return u, s, vh"
   ]
  },
  {
   "cell_type": "markdown",
   "metadata": {},
   "source": [
    "### Alignment with random embeddings (for baseline purposes)"
   ]
  },
  {
   "cell_type": "code",
   "execution_count": null,
   "metadata": {},
   "outputs": [],
   "source": [
    "random_alignments = []\n",
    "for i in range(10):\n",
    "    _, s, _ = embedding_alignment(random_embed[i], web_embed)\n",
    "    dist = 510 - s.sum()\n",
    "    random_alignments.append(dist)\n",
    "    print(f\"Web and Random-{i}: {dist:0.2f}\")\n",
    "\n",
    "random_embed_mean = sum(random_alignments) / len(random_alignments)\n",
    "random_embed_std  = scipy.stats.tstd(random_alignments)\n",
    "    \n",
    "print(f\"Mean D(L,S): {random_embed_mean:.4f}\")\n",
    "print(f\"Stddev:      {random_embed_std:.4f}\")\n",
    "print(f\"mu - 3sd:    {random_embed_mean - (3*random_embed_std):.4f}\")"
   ]
  },
  {
   "cell_type": "markdown",
   "metadata": {},
   "source": [
    "### Alignment of CCLM embeddings to Web embedding"
   ]
  },
  {
   "cell_type": "code",
   "execution_count": null,
   "metadata": {},
   "outputs": [],
   "source": [
    "for m in cclms:\n",
    "    _, s, _ = embedding_alignment(cclm_embed[m], web_embed)\n",
    "    dist = 510 - s.sum()\n",
    "    print(f\"{m} and Web: {dist:0.2f} ({(random_embed_mean - dist) / random_embed_std:0.2f})\")"
   ]
  },
  {
   "cell_type": "code",
   "execution_count": null,
   "metadata": {},
   "outputs": [],
   "source": [
    "value_no = list(range(16))\n",
    "fig = go.Figure()\n",
    "for model in cclms:\n",
    "    color = 'blue' if model[:4] == 'lstm' else 'red'\n",
    "    u, s, vh = embedding_alignment(web_embed, cclm_embed[model])\n",
    "    fig.add_trace(go.Bar(x=value_no,\n",
    "                    y=list(s),\n",
    "                    name=model,\n",
    "                    marker_color=color\n",
    "                    ))\n",
    "fig.show()"
   ]
  },
  {
   "cell_type": "markdown",
   "metadata": {},
   "source": [
    "## Cluster & dislpay embeddings"
   ]
  },
  {
   "cell_type": "code",
   "execution_count": null,
   "metadata": {},
   "outputs": [],
   "source": [
    "from sklearn.cluster import KMeans\n",
    "n_clusters = 6\n",
    "kmeans = KMeans(n_clusters=n_clusters, random_state=0).fit(web_embed)\n",
    "\n",
    "cos_dist = scipy.spatial.distance.cosine\n",
    "for cluster, center in enumerate(kmeans.cluster_centers_):\n",
    "    dist = np.array([cos_dist(v, center) for v in web_embed])\n",
    "    print(f\"{cluster}: {' '.join([comms[i] for i in np.argsort(dist)[:7]])}\")\n",
    "cluster_labels = ['console games', 'politics', 'hobby', 'meme', 'discussion', \n",
    "                  'computer games', 'subculture', 'nsfw', 'advice', 'sports'] #assigned post-hoc"
   ]
  },
  {
   "cell_type": "code",
   "execution_count": null,
   "metadata": {},
   "outputs": [],
   "source": [
    "def plot_embedding_against_web(model, kmeans):  \n",
    "\n",
    "    u, s, vh = embedding_alignment(web_embed, cclm_embed[model])\n",
    "\n",
    "    df = pd.DataFrame({\n",
    "        'web_PCA0':      np.dot(web_embed, u[:,0]),\n",
    "        'web_PCA1':      np.dot(web_embed, u[:,1]),\n",
    "        f'{model}_PCA0': np.dot(cclm_embed[model], vh[0]),\n",
    "        f'{model}_PCA1': np.dot(cclm_embed[model], vh[1])\n",
    "    })\n",
    "    df['community'] = comms\n",
    "\n",
    "\n",
    "    df['web_cluster'] = [str(l) for l in kmeans.labels_]\n",
    "    \n",
    "    fig = px.scatter(df.reset_index(), x='web_PCA0', y='web_PCA1', hover_name='community', color='web_cluster')\n",
    "    fig.show()\n",
    "    fig = px.scatter(df.reset_index(), x=f'{model}_PCA0', y=f'{model}_PCA1', hover_name='community', color='web_cluster')\n",
    "    fig.show()\n",
    "    \n",
    "    return df\n",
    "\n",
    "M = best_lstm\n",
    "df_web = plot_embedding_against_web(best_lstm, kmeans).set_index('community')"
   ]
  },
  {
   "cell_type": "code",
   "execution_count": null,
   "metadata": {},
   "outputs": [],
   "source": [
    "df = df.merge(df_web, left_index=True, right_index=True)"
   ]
  },
  {
   "cell_type": "code",
   "execution_count": null,
   "metadata": {},
   "outputs": [],
   "source": [
    "df.sort_values(f'{M}_indisc').to_csv('paper/floats/comm.csv', index=True, sep='\\t')"
   ]
  },
  {
   "cell_type": "markdown",
   "metadata": {},
   "source": [
    "# Confusion matrix sorted by embedding PCA0"
   ]
  },
  {
   "cell_type": "code",
   "execution_count": null,
   "metadata": {},
   "outputs": [],
   "source": [
    "u, s, vh = embedding_alignment(cclm_embed[best_lstm], cclm_embed)\n",
    "pca0 = np.dot(cclm_embed[best_lstm], vh[0])\n",
    "\n",
    "labels_sorted, confusion_sorted  = sort_confusion_by_values(confusion[best_lstm], pca0)\n",
    "plot_confusion(np.log(confusion_sorted), labels_sorted)"
   ]
  }
 ],
 "metadata": {
  "kernelspec": {
   "display_name": "Python 3",
   "language": "python",
   "name": "python3"
  },
  "language_info": {
   "codemirror_mode": {
    "name": "ipython",
    "version": 3
   },
   "file_extension": ".py",
   "mimetype": "text/x-python",
   "name": "python",
   "nbconvert_exporter": "python",
   "pygments_lexer": "ipython3",
   "version": "3.7.5"
  }
 },
 "nbformat": 4,
 "nbformat_minor": 2
}
